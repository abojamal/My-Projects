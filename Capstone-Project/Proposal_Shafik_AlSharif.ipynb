{
 "cells": [
  {
   "cell_type": "markdown",
   "metadata": {},
   "source": [
    "### Project Scope:\n",
    "Predict sales prices and practice feature engineering and advanced regression techniques.\n",
    "\n",
    "\n",
    "### Problem:\n",
    "Many people estimate the house price based on essential features such as the total area or number of rooms in the house …However, this project will prove that much more factors influence house prices. Having a pricing model based on 79 explanatory variables describing almost every aspect of residential homes in Ames, Iowa will help both buyers and sellers to figure out the right price.\n",
    "\n",
    "\n",
    "### Data:\n",
    "Dataset With 79 explanatory variables describing (almost) every aspect of residential homes in Ames, Iowa will be used to predict sales price.\n",
    "Data Source: Kaggle (https://www.kaggle.com/c/house-prices-advanced-regression-techniques)\n",
    "A brief version of each column in data description file is provided. Please refer to data description file.\n",
    "\n",
    "\n",
    "### Hypotheses:\n",
    "There seems to be a positive correlation between the area and the house price. Also, having more features like a pool for example increases the price.\n",
    "My aim is to achieve the lowest possible Root-Mean-Squared-Error (RMSE) between the logarithm of the predicted value and the logarithm of the observed sales price.\n",
    "\n",
    "### Risks:\n",
    "The Ames Housing dataset was compiled by Dean De Cock for use in data science education. Hence, there is a degree of uncertainty about the data accuracy. Also, unfamiliarity with residential homes in Ames, Iowa might affect final price accuracy.\n",
    "\n",
    "\n",
    "\n"
   ]
  }
 ],
 "metadata": {
  "kernelspec": {
   "display_name": "Python 3",
   "language": "python",
   "name": "python3"
  },
  "language_info": {
   "codemirror_mode": {
    "name": "ipython",
    "version": 3
   },
   "file_extension": ".py",
   "mimetype": "text/x-python",
   "name": "python",
   "nbconvert_exporter": "python",
   "pygments_lexer": "ipython3",
   "version": "3.6.4"
  }
 },
 "nbformat": 4,
 "nbformat_minor": 2
}
